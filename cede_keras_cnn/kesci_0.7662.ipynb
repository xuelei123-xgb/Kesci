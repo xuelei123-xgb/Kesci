{
 "cells": [
  {
   "cell_type": "code",
   "execution_count": 2,
   "metadata": {},
   "outputs": [],
   "source": [
    "import numpy as np\n",
    "import pandas as pd\n",
    "from tqdm import tqdm\n",
    "from scipy.signal import resample\n",
    "from tensorflow.keras.layers import *\n",
    "from tensorflow.keras.models import Model\n",
    "from tensorflow.keras.optimizers import Adam\n",
    "from tensorflow.keras.utils import to_categorical\n",
    "from sklearn.model_selection import StratifiedKFold\n",
    "from tensorflow.keras.callbacks import EarlyStopping, ModelCheckpoint, ReduceLROnPlateau\n",
    "import os\n",
    "os.environ[\"CUDA_DEVICE_ORDER\"] = \"PCI_BUS_ID\"\n",
    "os.environ[\"CUDA_VISIBLE_DEVICES\"] = \"3\"  # 使用第四块GPU（从0开始）"
   ]
  },
  {
   "cell_type": "markdown",
   "metadata": {},
   "source": [
    "这里我们读入三个csv文件，分别是训练集(train：7292个数据)、线上测试集(test:7500个数据)和提交样例(sub)。把训练集读入进来之后就可以把标签(y)先分离出来了\n",
    "\n",
    "type(y):fragment_id\n",
    "0        0\n",
    "1        0\n",
    "2        0\n",
    "3        0\n",
    "4        0\n",
    "        ..\n",
    "7277    18\n",
    "7288    18\n",
    "7289    18\n",
    "7290    18\n",
    "7291    18\n",
    "Name: behavior_id, Length: 7292, dtype: int64"
   ]
  },
  {
   "cell_type": "code",
   "execution_count": 2,
   "metadata": {},
   "outputs": [],
   "source": [
    "train = pd.read_csv('train.csv')\n",
    "test = pd.read_csv('test.csv')\n",
    "sub = pd.read_csv('submit.csv')\n",
    "y = train.groupby('fragment_id')['behavior_id'].min()"
   ]
  },
  {
   "cell_type": "code",
   "execution_count": 3,
   "metadata": {},
   "outputs": [],
   "source": [
    "train['mod'] = (train.acc_x ** 2 + train.acc_y ** 2 + train.acc_z ** 2) ** .5\n",
    "train['modg'] = (train.acc_xg ** 2 + train.acc_yg ** 2 + train.acc_zg ** 2) ** .5\n",
    "test['mod'] = (test.acc_x ** 2 + test.acc_y ** 2 + test.acc_z ** 2) ** .5\n",
    "test['modg'] = (test.acc_xg ** 2 + test.acc_yg ** 2 + test.acc_zg ** 2) ** .5"
   ]
  },
  {
   "cell_type": "code",
   "execution_count": 4,
   "metadata": {},
   "outputs": [
    {
     "name": "stderr",
     "output_type": "stream",
     "text": [
      "100%|██████████| 7292/7292 [00:11<00:00, 613.75it/s]\n",
      "100%|██████████| 7500/7500 [00:11<00:00, 635.90it/s]\n"
     ]
    }
   ],
   "source": [
    "x = np.zeros((7292, 8, 60, 1))\n",
    "t = np.zeros((7500, 8, 60, 1))\n",
    "# 重采样成相同长度（60）\n",
    "for i in tqdm(range(7292)):\n",
    "    tmp = train[train.fragment_id == i][:60]\n",
    "    x[i,:,:, 0] = resample(tmp.drop(['fragment_id', 'time_point', 'behavior_id'],\n",
    "                                    axis=1), 60, np.array(tmp.time_point))[0].transpose(1,0)\n",
    "for i in tqdm(range(7500)):\n",
    "    tmp = test[test.fragment_id == i][:60]\n",
    "    t[i,:,:, 0] = resample(tmp.drop(['fragment_id', 'time_point'],\n",
    "                                    axis=1), 60, np.array(tmp.time_point))[0].transpose(1,0)\n",
    "    "
   ]
  },
  {
   "cell_type": "code",
   "execution_count": 5,
   "metadata": {},
   "outputs": [
    {
     "name": "stderr",
     "output_type": "stream",
     "text": [
      "100%|██████████| 7292/7292 [00:00<00:00, 22189.23it/s]\n",
      "100%|██████████| 7500/7500 [00:00<00:00, 124978.27it/s]\n"
     ]
    }
   ],
   "source": [
    "# 分割数据\n",
    "x_ = np.zeros((21876, 8, 30, 1))\n",
    "t_ = np.zeros((22500, 8, 30, 1))\n",
    "y_l = np.zeros((21876,))\n",
    "for i in tqdm(range(7292)):\n",
    "    x_[i,:,:,:] = x[i,:,0:30,:]\n",
    "    x_[i+7292,:,:,:] = x[i,:,15:45,:]\n",
    "    x_[i+14584,:,:,:] = x[i,:,30:60,:]\n",
    "    y_l[i] = np.array(y)[i]\n",
    "    y_l[i+7292] = np.array(y)[i]\n",
    "    y_l[i+14584] = np.array(y)[i]\n",
    "    \n",
    "for i in tqdm(range(7500)):\n",
    "    t_[i,:,:,:] = t[i,:,0:30,:]\n",
    "    t_[i+7500,:,:,:] = t[i,:,15:45,:]\n",
    "    t_[i+15000,:,:,:] = t[i,:,30:60,:]"
   ]
  },
  {
   "cell_type": "code",
   "execution_count": 4,
   "metadata": {
    "collapsed": true
   },
   "outputs": [
    {
     "name": "stdout",
     "output_type": "stream",
     "text": [
      "------------模型开始训练--------------\n"
     ]
    },
    {
     "ename": "OSError",
     "evalue": "Unable to open file (unable to open file: name = 'fold0.h5', errno = 2, error message = 'No such file or directory', flags = 0, o_flags = 0)",
     "output_type": "error",
     "traceback": [
      "\u001b[0;31m---------------------------------------------------------------------------\u001b[0m",
      "\u001b[0;31mOSError\u001b[0m                                   Traceback (most recent call last)",
      "\u001b[0;32m<ipython-input-4-21e7b7aa0ddf>\u001b[0m in \u001b[0;36m<module>\u001b[0;34m()\u001b[0m\n\u001b[1;32m      3\u001b[0m \u001b[0;32mfor\u001b[0m \u001b[0mmodel\u001b[0m \u001b[0;32min\u001b[0m \u001b[0;34m[\u001b[0m\u001b[0;34m'fold0.h5'\u001b[0m\u001b[0;34m,\u001b[0m\u001b[0;34m'fold1.h5'\u001b[0m\u001b[0;34m,\u001b[0m\u001b[0;34m'fold2.h5'\u001b[0m\u001b[0;34m,\u001b[0m\u001b[0;34m'fold3.h5'\u001b[0m\u001b[0;34m,\u001b[0m\u001b[0;34m'fold4.h5'\u001b[0m\u001b[0;34m]\u001b[0m\u001b[0;34m:\u001b[0m\u001b[0;34m\u001b[0m\u001b[0;34m\u001b[0m\u001b[0m\n\u001b[1;32m      4\u001b[0m     \u001b[0mprint\u001b[0m\u001b[0;34m(\u001b[0m\u001b[0;34m'------------模型开始训练--------------'\u001b[0m\u001b[0;34m)\u001b[0m\u001b[0;34m\u001b[0m\u001b[0;34m\u001b[0m\u001b[0m\n\u001b[0;32m----> 5\u001b[0;31m     \u001b[0mmodel\u001b[0m \u001b[0;34m=\u001b[0m \u001b[0mload_model\u001b[0m\u001b[0;34m(\u001b[0m\u001b[0mmodel\u001b[0m\u001b[0;34m)\u001b[0m\u001b[0;34m\u001b[0m\u001b[0;34m\u001b[0m\u001b[0m\n\u001b[0m\u001b[1;32m      6\u001b[0m \u001b[0;34m\u001b[0m\u001b[0m\n\u001b[1;32m      7\u001b[0m     \u001b[0mpre\u001b[0m \u001b[0;34m+=\u001b[0m \u001b[0mmodel\u001b[0m\u001b[0;34m.\u001b[0m\u001b[0mpredict\u001b[0m\u001b[0;34m(\u001b[0m\u001b[0mt_\u001b[0m\u001b[0;34m,\u001b[0m \u001b[0mverbose\u001b[0m\u001b[0;34m=\u001b[0m\u001b[0;36m0\u001b[0m\u001b[0;34m,\u001b[0m \u001b[0mbatch_size\u001b[0m\u001b[0;34m=\u001b[0m\u001b[0;36m1024\u001b[0m\u001b[0;34m)\u001b[0m \u001b[0;34m/\u001b[0m \u001b[0;36m5.\u001b[0m\u001b[0;34m\u001b[0m\u001b[0;34m\u001b[0m\u001b[0m\n",
      "\u001b[0;32m~/anaconda3/lib/python3.6/site-packages/keras/engine/saving.py\u001b[0m in \u001b[0;36mload_model\u001b[0;34m(filepath, custom_objects, compile)\u001b[0m\n\u001b[1;32m    415\u001b[0m     \u001b[0mmodel\u001b[0m \u001b[0;34m=\u001b[0m \u001b[0;32mNone\u001b[0m\u001b[0;34m\u001b[0m\u001b[0;34m\u001b[0m\u001b[0m\n\u001b[1;32m    416\u001b[0m     \u001b[0mopened_new_file\u001b[0m \u001b[0;34m=\u001b[0m \u001b[0;32mnot\u001b[0m \u001b[0misinstance\u001b[0m\u001b[0;34m(\u001b[0m\u001b[0mfilepath\u001b[0m\u001b[0;34m,\u001b[0m \u001b[0mh5py\u001b[0m\u001b[0;34m.\u001b[0m\u001b[0mGroup\u001b[0m\u001b[0;34m)\u001b[0m\u001b[0;34m\u001b[0m\u001b[0;34m\u001b[0m\u001b[0m\n\u001b[0;32m--> 417\u001b[0;31m     \u001b[0mf\u001b[0m \u001b[0;34m=\u001b[0m \u001b[0mh5dict\u001b[0m\u001b[0;34m(\u001b[0m\u001b[0mfilepath\u001b[0m\u001b[0;34m,\u001b[0m \u001b[0;34m'r'\u001b[0m\u001b[0;34m)\u001b[0m\u001b[0;34m\u001b[0m\u001b[0;34m\u001b[0m\u001b[0m\n\u001b[0m\u001b[1;32m    418\u001b[0m     \u001b[0;32mtry\u001b[0m\u001b[0;34m:\u001b[0m\u001b[0;34m\u001b[0m\u001b[0;34m\u001b[0m\u001b[0m\n\u001b[1;32m    419\u001b[0m         \u001b[0mmodel\u001b[0m \u001b[0;34m=\u001b[0m \u001b[0m_deserialize_model\u001b[0m\u001b[0;34m(\u001b[0m\u001b[0mf\u001b[0m\u001b[0;34m,\u001b[0m \u001b[0mcustom_objects\u001b[0m\u001b[0;34m,\u001b[0m \u001b[0mcompile\u001b[0m\u001b[0;34m)\u001b[0m\u001b[0;34m\u001b[0m\u001b[0;34m\u001b[0m\u001b[0m\n",
      "\u001b[0;32m~/anaconda3/lib/python3.6/site-packages/keras/utils/io_utils.py\u001b[0m in \u001b[0;36m__init__\u001b[0;34m(self, path, mode)\u001b[0m\n\u001b[1;32m    184\u001b[0m             \u001b[0mself\u001b[0m\u001b[0;34m.\u001b[0m\u001b[0m_is_file\u001b[0m \u001b[0;34m=\u001b[0m \u001b[0;32mFalse\u001b[0m\u001b[0;34m\u001b[0m\u001b[0;34m\u001b[0m\u001b[0m\n\u001b[1;32m    185\u001b[0m         \u001b[0;32melif\u001b[0m \u001b[0misinstance\u001b[0m\u001b[0;34m(\u001b[0m\u001b[0mpath\u001b[0m\u001b[0;34m,\u001b[0m \u001b[0mstr\u001b[0m\u001b[0;34m)\u001b[0m\u001b[0;34m:\u001b[0m\u001b[0;34m\u001b[0m\u001b[0;34m\u001b[0m\u001b[0m\n\u001b[0;32m--> 186\u001b[0;31m             \u001b[0mself\u001b[0m\u001b[0;34m.\u001b[0m\u001b[0mdata\u001b[0m \u001b[0;34m=\u001b[0m \u001b[0mh5py\u001b[0m\u001b[0;34m.\u001b[0m\u001b[0mFile\u001b[0m\u001b[0;34m(\u001b[0m\u001b[0mpath\u001b[0m\u001b[0;34m,\u001b[0m \u001b[0mmode\u001b[0m\u001b[0;34m=\u001b[0m\u001b[0mmode\u001b[0m\u001b[0;34m)\u001b[0m\u001b[0;34m\u001b[0m\u001b[0;34m\u001b[0m\u001b[0m\n\u001b[0m\u001b[1;32m    187\u001b[0m             \u001b[0mself\u001b[0m\u001b[0;34m.\u001b[0m\u001b[0m_is_file\u001b[0m \u001b[0;34m=\u001b[0m \u001b[0;32mTrue\u001b[0m\u001b[0;34m\u001b[0m\u001b[0;34m\u001b[0m\u001b[0m\n\u001b[1;32m    188\u001b[0m         \u001b[0;32melif\u001b[0m \u001b[0misinstance\u001b[0m\u001b[0;34m(\u001b[0m\u001b[0mpath\u001b[0m\u001b[0;34m,\u001b[0m \u001b[0mdict\u001b[0m\u001b[0;34m)\u001b[0m\u001b[0;34m:\u001b[0m\u001b[0;34m\u001b[0m\u001b[0;34m\u001b[0m\u001b[0m\n",
      "\u001b[0;32m~/anaconda3/lib/python3.6/site-packages/h5py/_hl/files.py\u001b[0m in \u001b[0;36m__init__\u001b[0;34m(self, name, mode, driver, libver, userblock_size, swmr, **kwds)\u001b[0m\n\u001b[1;32m    267\u001b[0m             \u001b[0;32mwith\u001b[0m \u001b[0mphil\u001b[0m\u001b[0;34m:\u001b[0m\u001b[0;34m\u001b[0m\u001b[0;34m\u001b[0m\u001b[0m\n\u001b[1;32m    268\u001b[0m                 \u001b[0mfapl\u001b[0m \u001b[0;34m=\u001b[0m \u001b[0mmake_fapl\u001b[0m\u001b[0;34m(\u001b[0m\u001b[0mdriver\u001b[0m\u001b[0;34m,\u001b[0m \u001b[0mlibver\u001b[0m\u001b[0;34m,\u001b[0m \u001b[0;34m**\u001b[0m\u001b[0mkwds\u001b[0m\u001b[0;34m)\u001b[0m\u001b[0;34m\u001b[0m\u001b[0;34m\u001b[0m\u001b[0m\n\u001b[0;32m--> 269\u001b[0;31m                 \u001b[0mfid\u001b[0m \u001b[0;34m=\u001b[0m \u001b[0mmake_fid\u001b[0m\u001b[0;34m(\u001b[0m\u001b[0mname\u001b[0m\u001b[0;34m,\u001b[0m \u001b[0mmode\u001b[0m\u001b[0;34m,\u001b[0m \u001b[0muserblock_size\u001b[0m\u001b[0;34m,\u001b[0m \u001b[0mfapl\u001b[0m\u001b[0;34m,\u001b[0m \u001b[0mswmr\u001b[0m\u001b[0;34m=\u001b[0m\u001b[0mswmr\u001b[0m\u001b[0;34m)\u001b[0m\u001b[0;34m\u001b[0m\u001b[0;34m\u001b[0m\u001b[0m\n\u001b[0m\u001b[1;32m    270\u001b[0m \u001b[0;34m\u001b[0m\u001b[0m\n\u001b[1;32m    271\u001b[0m                 \u001b[0;32mif\u001b[0m \u001b[0mswmr_support\u001b[0m\u001b[0;34m:\u001b[0m\u001b[0;34m\u001b[0m\u001b[0;34m\u001b[0m\u001b[0m\n",
      "\u001b[0;32m~/anaconda3/lib/python3.6/site-packages/h5py/_hl/files.py\u001b[0m in \u001b[0;36mmake_fid\u001b[0;34m(name, mode, userblock_size, fapl, fcpl, swmr)\u001b[0m\n\u001b[1;32m     97\u001b[0m         \u001b[0;32mif\u001b[0m \u001b[0mswmr\u001b[0m \u001b[0;32mand\u001b[0m \u001b[0mswmr_support\u001b[0m\u001b[0;34m:\u001b[0m\u001b[0;34m\u001b[0m\u001b[0;34m\u001b[0m\u001b[0m\n\u001b[1;32m     98\u001b[0m             \u001b[0mflags\u001b[0m \u001b[0;34m|=\u001b[0m \u001b[0mh5f\u001b[0m\u001b[0;34m.\u001b[0m\u001b[0mACC_SWMR_READ\u001b[0m\u001b[0;34m\u001b[0m\u001b[0;34m\u001b[0m\u001b[0m\n\u001b[0;32m---> 99\u001b[0;31m         \u001b[0mfid\u001b[0m \u001b[0;34m=\u001b[0m \u001b[0mh5f\u001b[0m\u001b[0;34m.\u001b[0m\u001b[0mopen\u001b[0m\u001b[0;34m(\u001b[0m\u001b[0mname\u001b[0m\u001b[0;34m,\u001b[0m \u001b[0mflags\u001b[0m\u001b[0;34m,\u001b[0m \u001b[0mfapl\u001b[0m\u001b[0;34m=\u001b[0m\u001b[0mfapl\u001b[0m\u001b[0;34m)\u001b[0m\u001b[0;34m\u001b[0m\u001b[0;34m\u001b[0m\u001b[0m\n\u001b[0m\u001b[1;32m    100\u001b[0m     \u001b[0;32melif\u001b[0m \u001b[0mmode\u001b[0m \u001b[0;34m==\u001b[0m \u001b[0;34m'r+'\u001b[0m\u001b[0;34m:\u001b[0m\u001b[0;34m\u001b[0m\u001b[0;34m\u001b[0m\u001b[0m\n\u001b[1;32m    101\u001b[0m         \u001b[0mfid\u001b[0m \u001b[0;34m=\u001b[0m \u001b[0mh5f\u001b[0m\u001b[0;34m.\u001b[0m\u001b[0mopen\u001b[0m\u001b[0;34m(\u001b[0m\u001b[0mname\u001b[0m\u001b[0;34m,\u001b[0m \u001b[0mh5f\u001b[0m\u001b[0;34m.\u001b[0m\u001b[0mACC_RDWR\u001b[0m\u001b[0;34m,\u001b[0m \u001b[0mfapl\u001b[0m\u001b[0;34m=\u001b[0m\u001b[0mfapl\u001b[0m\u001b[0;34m)\u001b[0m\u001b[0;34m\u001b[0m\u001b[0;34m\u001b[0m\u001b[0m\n",
      "\u001b[0;32mh5py/_objects.pyx\u001b[0m in \u001b[0;36mh5py._objects.with_phil.wrapper\u001b[0;34m()\u001b[0m\n",
      "\u001b[0;32mh5py/_objects.pyx\u001b[0m in \u001b[0;36mh5py._objects.with_phil.wrapper\u001b[0;34m()\u001b[0m\n",
      "\u001b[0;32mh5py/h5f.pyx\u001b[0m in \u001b[0;36mh5py.h5f.open\u001b[0;34m()\u001b[0m\n",
      "\u001b[0;31mOSError\u001b[0m: Unable to open file (unable to open file: name = 'fold0.h5', errno = 2, error message = 'No such file or directory', flags = 0, o_flags = 0)"
     ]
    }
   ],
   "source": [
    "if __name__ == '__main__'\"\n",
    "    from keras.models import load_model\n",
    "    import numpy as np\n",
    "    import pandas as pd\n",
    "    from tqdm import tqdm\n",
    "    from scipy.signal import resample\n",
    "    from tensorflow.keras.layers import *\n",
    "    from tensorflow.keras.models import Model\n",
    "    from tensorflow.keras.optimizers import Adam\n",
    "    from tensorflow.keras.utils import to_categorical\n",
    "    from sklearn.model_selection import StratifiedKFold\n",
    "    from tensorflow.keras.callbacks import EarlyStopping, ModelCheckpoint, ReduceLROnPlateau\n",
    "    import os\n",
    "    os.environ[\"CUDA_DEVICE_ORDER\"] = \"PCI_BUS_ID\"\n",
    "    os.environ[\"CUDA_VISIBLE_DEVICES\"] = \"3\"  # 使用第四块GPU（从0开始）\n",
    "    pre = np.zeros((22500, 19))\n",
    "    for model in tqdm(['fold0.h5','fold1.h5','fold2.h5','fold3.h5','fold4.h5']):\n",
    "        print('------------模型开始预测--------------')\n",
    "        model = load_model(model)\n",
    "\n",
    "        pre += model.predict(t_, verbose=0, batch_size=1024) / 5.\n",
    "\n",
    "\n",
    "\n",
    "    for i in range(7500):\n",
    "        pre[i] += pre[i + 7500]\n",
    "        pre[i] += pre[i + 7500 * 2]\n",
    "\n",
    "    pre_ave = pre[:7500] / 3. \n",
    "\n",
    "    print('------------开始提取重新训练数据--------------')\n",
    "    retrain_index = []\n",
    "    retest_index = []\n",
    "    retrain_label = []\n",
    "    for i in tqdm(range(len(pre_ave))):\n",
    "        sort_ = sorted(pre_ave[i])\n",
    "        list_ = pre_ave[i].tolist()\n",
    "        #print(list_)\n",
    "        if sort_[-1] > 0.8 and sort_[-1] - sort_[-2] > 0.6:\n",
    "            retrain_index.append(i)\n",
    "            retrain_label.append(list_.index(max(list_)))\n",
    "        else:\n",
    "            retest_index.append(i)\n",
    "\n",
    "\n",
    "    print('------------开始合并训练数据--------------')\n",
    "    train = pd.read_csv('train.csv')\n",
    "    test = pd.read_csv('test.csv')\n",
    "    sub = pd.read_csv('sub.csv')\n",
    "    y = train.groupby('fragment_id')['behavior_id'].min()\n",
    "\n",
    "    train['mod'] = (train.acc_x ** 2 + train.acc_y ** 2 + train.acc_z ** 2) ** .5\n",
    "    train['modg'] = (train.acc_xg ** 2 + train.acc_yg ** 2 + train.acc_zg ** 2) ** .5\n",
    "    test['mod'] = (test.acc_x ** 2 + test.acc_y ** 2 + test.acc_z ** 2) ** .5\n",
    "    test['modg'] = (test.acc_xg ** 2 + test.acc_yg ** 2 + test.acc_zg ** 2) ** .5\n",
    "\n",
    "    x = np.zeros((7292, 8, 60, 1))\n",
    "    t = np.zeros((7500, 8, 60, 1))\n",
    "    # 重采样成相同长度（60）\n",
    "    for i in tqdm(range(7292)):\n",
    "        tmp = train[train.fragment_id == i][:60]\n",
    "        x[i,:,:, 0] = resample(tmp.drop(['fragment_id', 'time_point', 'behavior_id'],\n",
    "                                        axis=1), 60, np.array(tmp.time_point))[0].transpose(1,0)\n",
    "    for i in tqdm(range(7500)):\n",
    "        tmp = test[test.fragment_id == i][:60]\n",
    "        t[i,:,:, 0] = resample(tmp.drop(['fragment_id', 'time_point'],\n",
    "                                        axis=1), 60, np.array(tmp.time_point))[0].transpose(1,0)\n",
    "\n",
    "\n",
    "    x_new = list(x)\n",
    "    y_new = list(y.values)\n",
    "    x_test_new = []\n",
    "\n",
    "    # 组合新的训练集和标签\n",
    "    for i, j in zip(retrain_index, retrain_label):\n",
    "        x_new.append(t[i])\n",
    "        y_new.append(j)\n",
    "\n",
    "\n",
    "    # 提取出新的测试集\n",
    "    for i in retest_index:\n",
    "        x_test_new.append(t[i])\n",
    "\n",
    "    x_new = np.array(x_new)\n",
    "    y_new = np.array(y_new)\n",
    "    x_test_new = np.array(x_test_new)\n",
    "\n",
    "    print('------------开始分割训练数据--------------')\n",
    "    # 分割数据\n",
    "    x_ = np.zeros((len(x_new)*3, 8, 30, 1))\n",
    "    t_ = np.zeros((len(x_test_new)*3, 8, 30, 1))\n",
    "    y_l = np.zeros((len(y_new)*3,))\n",
    "    for i in tqdm(range(7292)):\n",
    "        x_[i,:,:,:] = x_new[i,:,0:30,:]\n",
    "        x_[i+len(x_new),:,:,:] = x_new[i,:,15:45,:]\n",
    "        x_[i+len(x_new)*2,:,:,:] = x_new[i,:,30:60,:]\n",
    "        y_l[i] = np.array(y_new)[i]\n",
    "        y_l[i+len(y_new)] = np.array(y_new)[i]\n",
    "        y_l[i+len(y_new)*2] = np.array(y_new)[i]\n",
    "\n",
    "    for i in tqdm(range(len(x_test_new))):\n",
    "        t_[i,:,:,:] = x_test_new[i,:,0:30,:]\n",
    "        t_[i+len(x_test_new),:,:,:] = x_test_new[i,:,15:45,:]\n",
    "        t_[i+len(x_test_new)*2,:,:,:] = x_test_new[i,:,30:60,:]\n",
    "\n",
    "\n",
    "    def Net():\n",
    "        input = Input(shape=(8, 30, 1))\n",
    "        X = Conv2D(filters=64,\n",
    "                   kernel_size=(5, 5),\n",
    "                   activation='relu',\n",
    "                   padding='same')(input)\n",
    "        X = Conv2D(filters=128,\n",
    "                   kernel_size=(5, 5),\n",
    "                   activation='relu',\n",
    "                   padding='same')(X)\n",
    "        X = MaxPooling2D()(X)\n",
    "        X = Dropout(0.2)(X)\n",
    "        X = Conv2D(filters=256,\n",
    "                   kernel_size=(5, 5),\n",
    "                   activation='relu',\n",
    "                   padding='same')(X)\n",
    "        X = Dropout(0.3)(X)\n",
    "        X = Conv2D(filters=512,\n",
    "                   kernel_size=(5, 5),\n",
    "                   activation='relu',\n",
    "                   padding='same')(X)\n",
    "        X = GlobalMaxPooling2D()(X)\n",
    "        X = Dropout(0.5)(X)\n",
    "        X = Dense(19, activation='softmax')(X)\n",
    "        return Model([input], X)\n",
    "\n",
    "    kfold = StratifiedKFold(5, shuffle=True)\n",
    "\n",
    "    print('------------开始训练网络--------------')\n",
    "    # 设置测试集的准确度 acc是指模型训练精度，val_acc是指模型在验证集上的精度\n",
    "    proba_t = np.zeros((len(x_test_new)*3, 19))\n",
    "    # 从所有train集中均分出来一个作为验证集\n",
    "    for fold, (xx, yy) in enumerate(kfold.split(x_, y_l)):\n",
    "        print('第',fold, '次')\n",
    "        # 将二元组转为矩阵表示\n",
    "        y_ = to_categorical(y_l, num_classes=19)\n",
    "        model = Net()\n",
    "        # 设置训练参数：loss使用'分类交叉熵函数'，优化器使用Adam， 列表（metrics）使用accuracy：表示为到上一个batch为止的准确度\n",
    "        model.compile(loss='categorical_crossentropy',\n",
    "                      optimizer=Adam(),\n",
    "                      metrics=['acc'])\n",
    "        # 回调监控函数（修改学习率）：\n",
    "        # monitor：要监测的数量。\n",
    "        # factor：学习速率降低的因素。new_lr = lr * factor\n",
    "        # patience：没有提升的epoch数，之后学习率将降低。\n",
    "        # verbose：日志显示：0：安静，1：更新消息。为1表示输出epoch模型保存信息，默认为0表示不输出该信息\n",
    "        # mode：{auto，min，max}之一。在min模式下，当监测量停止下降时，lr将减少；在max模式下，当监测数量停止增加时，它将减少；在auto模式下，从监测数量的名称自动推断方向。\n",
    "        plateau = ReduceLROnPlateau(monitor=\"val_acc\",\n",
    "                                    verbose=0,\n",
    "                                    mode='max',\n",
    "                                    factor=0.1,\n",
    "                                    patience=10)\n",
    "        # 回调停止函数（及时停止防止过拟合）：\n",
    "        # 参数属性和上述一致\n",
    "        early_stopping = EarlyStopping(monitor='val_acc',\n",
    "                                       verbose=0,\n",
    "                                       mode='max',\n",
    "                                       patience=15)\n",
    "        # 保存模型设置\n",
    "        # save_best_only：当设置为True时，将只保存在验证集上性能最好的模型\n",
    "        checkpoint = ModelCheckpoint(f'new_fold{fold}.h5',\n",
    "                                     monitor='val_acc',\n",
    "                                     verbose=0,\n",
    "                                     mode='max',\n",
    "                                     save_best_only=True)\n",
    "        # 开始训练\n",
    "        # validation_data：形式为（X，y）的tuple，是指定的验证集。此参数将覆盖validation_spilt。\n",
    "        # shuffle：表示是否在训练过程中随机打乱输入样本的顺序。\n",
    "        model.fit(x_[xx], y_[xx],\n",
    "                  epochs=100,\n",
    "                  batch_size=512,\n",
    "                  verbose=1,\n",
    "                  shuffle=True,\n",
    "                  validation_data=(x_[yy], y_[yy]),\n",
    "                  callbacks=[plateau, early_stopping, checkpoint])\n",
    "        # 保存5个交叉验证集模型的参数\n",
    "        model.load_weights(f'new_fold{fold}.h5')\n",
    "        # 预测输出为softmax值，对五次训练结果取平均\n",
    "        proba_t += model.predict(t_, verbose=0, batch_size=1024) / 5.\n",
    "        \n",
    "    print('------------开始合并结果--------------')\n",
    "    for i in tqdm(range(len(retest_indexretest_index))):\n",
    "        proba_t[i] += proba_t[i + len(retest_index)]\n",
    "        proba_t[i] += proba_t[i + len(retest_index) * 2]\n",
    "\n",
    "    pre_new_sub = proba_t[:len(retest_index)]\n",
    "    sub_new = np.argmax(pre_new_sub, axis=1)\n",
    "\n",
    "    for i,j in tqdm(zip(range(len(retest_index)),range(len(retrain_index)))):\n",
    "        sub.iloc[retest_index[i],1] = sub_new[i]\n",
    "        sub.iloc[retrain_index[j],1] = retrain_label[j]\n",
    "\n",
    "    sub.to_csv('submit_new.csv',index=False)"
   ]
  },
  {
   "cell_type": "code",
   "execution_count": 102,
   "metadata": {},
   "outputs": [],
   "source": [
    "pre_ave = pre[:7500] / 3. "
   ]
  },
  {
   "cell_type": "code",
   "execution_count": 239,
   "metadata": {},
   "outputs": [],
   "source": [
    "retrain_index = []\n",
    "retest_index = []\n",
    "retrain_label = []\n",
    "for i in range(len(pre_ave)):\n",
    "    sort_ = sorted(pre_ave[i])\n",
    "    list_ = pre_ave[i].tolist()\n",
    "    #print(list_)\n",
    "    if sort_[-1] > 0.8 and sort_[-1] - sort_[-2] > 0.6:\n",
    "        retrain_index.append(i)\n",
    "        retrain_label.append(list_.index(max(list_)))\n",
    "    else:\n",
    "        retest_index.append(i)\n",
    "    "
   ]
  },
  {
   "cell_type": "code",
   "execution_count": 240,
   "metadata": {},
   "outputs": [
    {
     "data": {
      "text/plain": [
       "2672"
      ]
     },
     "execution_count": 240,
     "metadata": {},
     "output_type": "execute_result"
    }
   ],
   "source": [
    "len(retrain_index)"
   ]
  },
  {
   "cell_type": "code",
   "execution_count": 234,
   "metadata": {},
   "outputs": [
    {
     "data": {
      "text/plain": [
       "7500"
      ]
     },
     "execution_count": 234,
     "metadata": {},
     "output_type": "execute_result"
    }
   ],
   "source": [
    "len(retrain_index) + len(retest_index)"
   ]
  },
  {
   "cell_type": "code",
   "execution_count": 235,
   "metadata": {},
   "outputs": [
    {
     "data": {
      "text/plain": [
       "[<matplotlib.lines.Line2D at 0x7fcd3081ccc0>]"
      ]
     },
     "execution_count": 235,
     "metadata": {},
     "output_type": "execute_result"
    },
    {
     "data": {
      "image/png": "[encoded data removed]",
      "text/plain": [
       "<Figure size 432x288 with 1 Axes>"
      ]
     },
     "metadata": {},
     "output_type": "display_data"
    }
   ],
   "source": [
    "import matplotlib.pyplot as plt\n",
    "plt.plot(pre_ave[10])"
   ]
  },
  {
   "cell_type": "code",
   "execution_count": 153,
   "metadata": {},
   "outputs": [],
   "source": [
    "train = pd.read_csv('train.csv')\n",
    "test = pd.read_csv('test.csv')\n",
    "sub = pd.read_csv('submit.csv')\n",
    "y = train.groupby('fragment_id')['behavior_id'].min()"
   ]
  },
  {
   "cell_type": "code",
   "execution_count": 154,
   "metadata": {},
   "outputs": [],
   "source": [
    "train['mod'] = (train.acc_x ** 2 + train.acc_y ** 2 + train.acc_z ** 2) ** .5\n",
    "train['modg'] = (train.acc_xg ** 2 + train.acc_yg ** 2 + train.acc_zg ** 2) ** .5\n",
    "test['mod'] = (test.acc_x ** 2 + test.acc_y ** 2 + test.acc_z ** 2) ** .5\n",
    "test['modg'] = (test.acc_xg ** 2 + test.acc_yg ** 2 + test.acc_zg ** 2) ** .5"
   ]
  },
  {
   "cell_type": "code",
   "execution_count": 155,
   "metadata": {},
   "outputs": [
    {
     "name": "stderr",
     "output_type": "stream",
     "text": [
      "100%|██████████| 7292/7292 [00:11<00:00, 613.66it/s]\n",
      "100%|██████████| 7500/7500 [00:12<00:00, 615.14it/s]\n"
     ]
    }
   ],
   "source": [
    "x = np.zeros((7292, 8, 60, 1))\n",
    "t = np.zeros((7500, 8, 60, 1))\n",
    "# 重采样成相同长度（60）\n",
    "for i in tqdm(range(7292)):\n",
    "    tmp = train[train.fragment_id == i][:60]\n",
    "    x[i,:,:, 0] = resample(tmp.drop(['fragment_id', 'time_point', 'behavior_id'],\n",
    "                                    axis=1), 60, np.array(tmp.time_point))[0].transpose(1,0)\n",
    "for i in tqdm(range(7500)):\n",
    "    tmp = test[test.fragment_id == i][:60]\n",
    "    t[i,:,:, 0] = resample(tmp.drop(['fragment_id', 'time_point'],\n",
    "                                    axis=1), 60, np.array(tmp.time_point))[0].transpose(1,0)"
   ]
  },
  {
   "cell_type": "code",
   "execution_count": 163,
   "metadata": {},
   "outputs": [],
   "source": [
    "x_new = list(x)\n",
    "y_new = list(y.values)\n",
    "x_test_new = []\n",
    "\n",
    "# 组合新的训练集和标签\n",
    "for i, j in zip(retrain_index, retrain_label):\n",
    "    x_new.append(t[i])\n",
    "    y_new.append(j)\n",
    "\n",
    "\n",
    "# 提取出新的测试集\n",
    "for i in retest_index:\n",
    "    x_test_new.append(t[i])\n",
    "    \n",
    "x_new = np.array(x_new)\n",
    "y_new = np.array(y_new)\n",
    "x_test_new = np.array(x_test_new)"
   ]
  },
  {
   "cell_type": "code",
   "execution_count": 162,
   "metadata": {},
   "outputs": [
    {
     "data": {
      "text/plain": [
       "(10427, 8, 60, 1)"
      ]
     },
     "execution_count": 162,
     "metadata": {},
     "output_type": "execute_result"
    }
   ],
   "source": [
    "x_new.shape"
   ]
  },
  {
   "cell_type": "code",
   "execution_count": 164,
   "metadata": {},
   "outputs": [
    {
     "data": {
      "text/plain": [
       "(4365, 8, 60, 1)"
      ]
     },
     "execution_count": 164,
     "metadata": {},
     "output_type": "execute_result"
    }
   ],
   "source": [
    "x_test_new.shape"
   ]
  },
  {
   "cell_type": "code",
   "execution_count": 169,
   "metadata": {},
   "outputs": [
    {
     "name": "stderr",
     "output_type": "stream",
     "text": [
      "100%|██████████| 7292/7292 [00:00<00:00, 34229.44it/s]\n",
      "100%|██████████| 4365/4365 [00:00<00:00, 144564.93it/s]\n"
     ]
    }
   ],
   "source": [
    "# 分割数据\n",
    "x_ = np.zeros((len(x_new)*3, 8, 30, 1))\n",
    "t_ = np.zeros((len(x_test_new)*3, 8, 30, 1))\n",
    "y_l = np.zeros((len(y_new)*3,))\n",
    "for i in tqdm(range(7292)):\n",
    "    x_[i,:,:,:] = x_new[i,:,0:30,:]\n",
    "    x_[i+len(x_new),:,:,:] = x_new[i,:,15:45,:]\n",
    "    x_[i+len(x_new)*2,:,:,:] = x_new[i,:,30:60,:]\n",
    "    y_l[i] = np.array(y_new)[i]\n",
    "    y_l[i+len(y_new)] = np.array(y_new)[i]\n",
    "    y_l[i+len(y_new)*2] = np.array(y_new)[i]\n",
    "    \n",
    "for i in tqdm(range(len(x_test_new))):\n",
    "    t_[i,:,:,:] = x_test_new[i,:,0:30,:]\n",
    "    t_[i+len(x_test_new),:,:,:] = x_test_new[i,:,15:45,:]\n",
    "    t_[i+len(x_test_new)*2,:,:,:] = x_test_new[i,:,30:60,:]"
   ]
  },
  {
   "cell_type": "code",
   "execution_count": 170,
   "metadata": {},
   "outputs": [],
   "source": [
    "def Net():\n",
    "    input = Input(shape=(8, 30, 1))\n",
    "    X = Conv2D(filters=64,\n",
    "               kernel_size=(5, 5),\n",
    "               activation='relu',\n",
    "               padding='same')(input)\n",
    "    X = Conv2D(filters=128,\n",
    "               kernel_size=(5, 5),\n",
    "               activation='relu',\n",
    "               padding='same')(X)\n",
    "    X = MaxPooling2D()(X)\n",
    "    X = Dropout(0.2)(X)\n",
    "    X = Conv2D(filters=256,\n",
    "               kernel_size=(5, 5),\n",
    "               activation='relu',\n",
    "               padding='same')(X)\n",
    "    X = Dropout(0.3)(X)\n",
    "    X = Conv2D(filters=512,\n",
    "               kernel_size=(5, 5),\n",
    "               activation='relu',\n",
    "               padding='same')(X)\n",
    "    X = GlobalMaxPooling2D()(X)\n",
    "    X = Dropout(0.5)(X)\n",
    "    X = Dense(19, activation='softmax')(X)\n",
    "    return Model([input], X)"
   ]
  },
  {
   "cell_type": "code",
   "execution_count": 171,
   "metadata": {},
   "outputs": [],
   "source": [
    "kfold = StratifiedKFold(5, shuffle=True)"
   ]
  },
  {
   "cell_type": "code",
   "execution_count": 174,
   "metadata": {},
   "outputs": [
    {
     "name": "stdout",
     "output_type": "stream",
     "text": [
      "第 0 次\n",
      "Train on 25017 samples, validate on 6264 samples\n",
      "Epoch 1/100\n",
      "25017/25017 [==============================] - 140s 6ms/step - loss: 1.4065 - acc: 0.5420 - val_loss: 1.1671 - val_acc: 0.6133\n",
      "Epoch 2/100\n",
      "25017/25017 [==============================] - 139s 6ms/step - loss: 1.1125 - acc: 0.6169 - val_loss: 1.0270 - val_acc: 0.6435\n",
      "Epoch 3/100\n",
      "25017/25017 [==============================] - 139s 6ms/step - loss: 1.0221 - acc: 0.6440 - val_loss: 0.9565 - val_acc: 0.6557\n",
      "Epoch 4/100\n",
      "25017/25017 [==============================] - 139s 6ms/step - loss: 0.9661 - acc: 0.6629 - val_loss: 0.8947 - val_acc: 0.6892\n",
      "Epoch 5/100\n",
      "25017/25017 [==============================] - 139s 6ms/step - loss: 0.9230 - acc: 0.6789 - val_loss: 0.9099 - val_acc: 0.6806\n",
      "Epoch 6/100\n",
      "25017/25017 [==============================] - 139s 6ms/step - loss: 0.8782 - acc: 0.6907 - val_loss: 0.8587 - val_acc: 0.7040\n",
      "Epoch 7/100\n",
      "25017/25017 [==============================] - 139s 6ms/step - loss: 0.8393 - acc: 0.7029 - val_loss: 0.8472 - val_acc: 0.7064\n",
      "Epoch 8/100\n",
      "25017/25017 [==============================] - 139s 6ms/step - loss: 0.8114 - acc: 0.7133 - val_loss: 0.8339 - val_acc: 0.7136\n",
      "Epoch 9/100\n",
      "25017/25017 [==============================] - 139s 6ms/step - loss: 0.7668 - acc: 0.7278 - val_loss: 0.7966 - val_acc: 0.7213\n",
      "Epoch 10/100\n",
      "25017/25017 [==============================] - 139s 6ms/step - loss: 0.7570 - acc: 0.7321 - val_loss: 0.7640 - val_acc: 0.7313\n",
      "Epoch 11/100\n",
      "25017/25017 [==============================] - 139s 6ms/step - loss: 0.7249 - acc: 0.7435 - val_loss: 0.7750 - val_acc: 0.7396\n",
      "Epoch 12/100\n",
      "25017/25017 [==============================] - 139s 6ms/step - loss: 0.7150 - acc: 0.7456 - val_loss: 0.7148 - val_acc: 0.7495\n",
      "Epoch 13/100\n",
      "25017/25017 [==============================] - 139s 6ms/step - loss: 0.7001 - acc: 0.7522 - val_loss: 0.7610 - val_acc: 0.7438\n",
      "Epoch 14/100\n",
      "25017/25017 [==============================] - 139s 6ms/step - loss: 0.6815 - acc: 0.7586 - val_loss: 0.7468 - val_acc: 0.7444\n",
      "Epoch 15/100\n",
      "25017/25017 [==============================] - 139s 6ms/step - loss: 0.6654 - acc: 0.7654 - val_loss: 0.7118 - val_acc: 0.7594\n",
      "Epoch 16/100\n",
      "25017/25017 [==============================] - 139s 6ms/step - loss: 0.6628 - acc: 0.7666 - val_loss: 0.6865 - val_acc: 0.7601\n",
      "Epoch 17/100\n",
      "25017/25017 [==============================] - 139s 6ms/step - loss: 0.6387 - acc: 0.7732 - val_loss: 0.7056 - val_acc: 0.7573\n",
      "Epoch 18/100\n",
      "25017/25017 [==============================] - 139s 6ms/step - loss: 0.6215 - acc: 0.7821 - val_loss: 0.7029 - val_acc: 0.7567\n",
      "Epoch 19/100\n",
      "25017/25017 [==============================] - 139s 6ms/step - loss: 0.6286 - acc: 0.7767 - val_loss: 0.6905 - val_acc: 0.7664\n",
      "Epoch 20/100\n",
      "25017/25017 [==============================] - 139s 6ms/step - loss: 0.6124 - acc: 0.7827 - val_loss: 0.6888 - val_acc: 0.7655\n",
      "Epoch 21/100\n",
      "25017/25017 [==============================] - 139s 6ms/step - loss: 0.6090 - acc: 0.7845 - val_loss: 0.6706 - val_acc: 0.7727\n",
      "Epoch 22/100\n",
      "25017/25017 [==============================] - 139s 6ms/step - loss: 0.5883 - acc: 0.7912 - val_loss: 0.6690 - val_acc: 0.7727\n",
      "Epoch 23/100\n",
      "25017/25017 [==============================] - 139s 6ms/step - loss: 0.5836 - acc: 0.7909 - val_loss: 0.6883 - val_acc: 0.7704\n",
      "Epoch 24/100\n",
      "25017/25017 [==============================] - 139s 6ms/step - loss: 0.5837 - acc: 0.7945 - val_loss: 0.6883 - val_acc: 0.7637\n",
      "Epoch 25/100\n",
      "25017/25017 [==============================] - 139s 6ms/step - loss: 0.5903 - acc: 0.7927 - val_loss: 0.7958 - val_acc: 0.7583\n",
      "Epoch 26/100\n",
      "25017/25017 [==============================] - 139s 6ms/step - loss: 0.5788 - acc: 0.7961 - val_loss: 0.6673 - val_acc: 0.7771\n",
      "Epoch 27/100\n",
      "25017/25017 [==============================] - 139s 6ms/step - loss: 0.5544 - acc: 0.8046 - val_loss: 0.6365 - val_acc: 0.7926\n",
      "Epoch 28/100\n",
      "25017/25017 [==============================] - 139s 6ms/step - loss: 0.5470 - acc: 0.8070 - val_loss: 0.6611 - val_acc: 0.7898\n",
      "Epoch 29/100\n",
      "25017/25017 [==============================] - 139s 6ms/step - loss: 0.5570 - acc: 0.8074 - val_loss: 0.7203 - val_acc: 0.7680\n",
      "Epoch 30/100\n",
      "25017/25017 [==============================] - 139s 6ms/step - loss: 0.5586 - acc: 0.8035 - val_loss: 0.6912 - val_acc: 0.7746\n",
      "Epoch 31/100\n",
      "25017/25017 [==============================] - 139s 6ms/step - loss: 0.5523 - acc: 0.8085 - val_loss: 0.6657 - val_acc: 0.7800\n",
      "Epoch 32/100\n",
      "25017/25017 [==============================] - 139s 6ms/step - loss: 0.5617 - acc: 0.8071 - val_loss: 0.6837 - val_acc: 0.7779\n",
      "Epoch 33/100\n",
      "25017/25017 [==============================] - 139s 6ms/step - loss: 0.5318 - acc: 0.8140 - val_loss: 0.6650 - val_acc: 0.7832\n",
      "Epoch 34/100\n",
      "25017/25017 [==============================] - 139s 6ms/step - loss: 0.5307 - acc: 0.8116 - val_loss: 0.6426 - val_acc: 0.7834\n",
      "Epoch 35/100\n",
      "25017/25017 [==============================] - 139s 6ms/step - loss: 0.5243 - acc: 0.8164 - val_loss: 0.6606 - val_acc: 0.7827\n",
      "Epoch 36/100\n",
      "25017/25017 [==============================] - 139s 6ms/step - loss: 0.5515 - acc: 0.8101 - val_loss: 0.6952 - val_acc: 0.7787\n",
      "Epoch 37/100\n",
      "25017/25017 [==============================] - 139s 6ms/step - loss: 0.5635 - acc: 0.8101 - val_loss: 0.7081 - val_acc: 0.7620\n",
      "Epoch 38/100\n",
      "25017/25017 [==============================] - 139s 6ms/step - loss: 0.4522 - acc: 0.8383 - val_loss: 0.6157 - val_acc: 0.8044\n",
      "Epoch 39/100\n",
      "25017/25017 [==============================] - 139s 6ms/step - loss: 0.4004 - acc: 0.8547 - val_loss: 0.5963 - val_acc: 0.8091\n",
      "Epoch 40/100\n",
      "25017/25017 [==============================] - 139s 6ms/step - loss: 0.3805 - acc: 0.8623 - val_loss: 0.5881 - val_acc: 0.8121\n",
      "Epoch 41/100\n",
      "25017/25017 [==============================] - 139s 6ms/step - loss: 0.3640 - acc: 0.8686 - val_loss: 0.5873 - val_acc: 0.8153\n",
      "Epoch 42/100\n",
      "25017/25017 [==============================] - 139s 6ms/step - loss: 0.3529 - acc: 0.8723 - val_loss: 0.5827 - val_acc: 0.8193\n",
      "Epoch 43/100\n",
      "25017/25017 [==============================] - 139s 6ms/step - loss: 0.3451 - acc: 0.8729 - val_loss: 0.5775 - val_acc: 0.8193\n",
      "Epoch 44/100\n",
      "25017/25017 [==============================] - 139s 6ms/step - loss: 0.3309 - acc: 0.8778 - val_loss: 0.5745 - val_acc: 0.8183\n",
      "Epoch 45/100\n",
      "25017/25017 [==============================] - 139s 6ms/step - loss: 0.3210 - acc: 0.8823 - val_loss: 0.5766 - val_acc: 0.8191\n",
      "Epoch 46/100\n",
      "25017/25017 [==============================] - 139s 6ms/step - loss: 0.3160 - acc: 0.8825 - val_loss: 0.5731 - val_acc: 0.8207\n",
      "Epoch 47/100\n",
      "25017/25017 [==============================] - 139s 6ms/step - loss: 0.3056 - acc: 0.8868 - val_loss: 0.5749 - val_acc: 0.8249\n",
      "Epoch 48/100\n",
      "25017/25017 [==============================] - 139s 6ms/step - loss: 0.3016 - acc: 0.8873 - val_loss: 0.5753 - val_acc: 0.8215\n",
      "Epoch 49/100\n",
      "25017/25017 [==============================] - 139s 6ms/step - loss: 0.2996 - acc: 0.8887 - val_loss: 0.5767 - val_acc: 0.8250\n",
      "Epoch 50/100\n",
      "25017/25017 [==============================] - 139s 6ms/step - loss: 0.2965 - acc: 0.8914 - val_loss: 0.5711 - val_acc: 0.8239\n",
      "Epoch 51/100\n",
      "25017/25017 [==============================] - 139s 6ms/step - loss: 0.2930 - acc: 0.8920 - val_loss: 0.5705 - val_acc: 0.8239\n",
      "Epoch 52/100\n",
      "25017/25017 [==============================] - 139s 6ms/step - loss: 0.2846 - acc: 0.8948 - val_loss: 0.5619 - val_acc: 0.8313\n",
      "Epoch 53/100\n",
      "25017/25017 [==============================] - 139s 6ms/step - loss: 0.2831 - acc: 0.8961 - val_loss: 0.5611 - val_acc: 0.8284\n",
      "Epoch 54/100\n",
      "25017/25017 [==============================] - 139s 6ms/step - loss: 0.2789 - acc: 0.8976 - val_loss: 0.5666 - val_acc: 0.8249\n",
      "Epoch 55/100\n",
      "25017/25017 [==============================] - 139s 6ms/step - loss: 0.2799 - acc: 0.8971 - val_loss: 0.5621 - val_acc: 0.8290\n",
      "Epoch 56/100\n",
      "25017/25017 [==============================] - 139s 6ms/step - loss: 0.2706 - acc: 0.9000 - val_loss: 0.5618 - val_acc: 0.8282\n",
      "Epoch 57/100\n",
      "25017/25017 [==============================] - 139s 6ms/step - loss: 0.2692 - acc: 0.9015 - val_loss: 0.5585 - val_acc: 0.8276\n",
      "Epoch 58/100\n",
      "25017/25017 [==============================] - 139s 6ms/step - loss: 0.2708 - acc: 0.8990 - val_loss: 0.5661 - val_acc: 0.8293\n",
      "Epoch 59/100\n",
      "25017/25017 [==============================] - 139s 6ms/step - loss: 0.2717 - acc: 0.9010 - val_loss: 0.5563 - val_acc: 0.8324\n",
      "Epoch 60/100\n",
      "25017/25017 [==============================] - 139s 6ms/step - loss: 0.2559 - acc: 0.9039 - val_loss: 0.5614 - val_acc: 0.8297\n",
      "Epoch 61/100\n",
      "25017/25017 [==============================] - 139s 6ms/step - loss: 0.2599 - acc: 0.9048 - val_loss: 0.5637 - val_acc: 0.8300\n",
      "Epoch 62/100\n",
      "25017/25017 [==============================] - 139s 6ms/step - loss: 0.2591 - acc: 0.9053 - val_loss: 0.5557 - val_acc: 0.8289\n",
      "Epoch 63/100\n",
      "25017/25017 [==============================] - 139s 6ms/step - loss: 0.2538 - acc: 0.9062 - val_loss: 0.5636 - val_acc: 0.8314\n",
      "Epoch 64/100\n",
      "25017/25017 [==============================] - 139s 6ms/step - loss: 0.2550 - acc: 0.9077 - val_loss: 0.5634 - val_acc: 0.8305\n",
      "Epoch 65/100\n",
      "25017/25017 [==============================] - 139s 6ms/step - loss: 0.2442 - acc: 0.9107 - val_loss: 0.5601 - val_acc: 0.8317\n",
      "Epoch 66/100\n",
      "25017/25017 [==============================] - 139s 6ms/step - loss: 0.2432 - acc: 0.9101 - val_loss: 0.5548 - val_acc: 0.8314\n",
      "Epoch 67/100\n",
      "25017/25017 [==============================] - 139s 6ms/step - loss: 0.2473 - acc: 0.9079 - val_loss: 0.5562 - val_acc: 0.8360\n",
      "Epoch 68/100\n",
      "25017/25017 [==============================] - 139s 6ms/step - loss: 0.2401 - acc: 0.9097 - val_loss: 0.5595 - val_acc: 0.8330\n",
      "Epoch 69/100\n",
      "25017/25017 [==============================] - 139s 6ms/step - loss: 0.2366 - acc: 0.9127 - val_loss: 0.5547 - val_acc: 0.8333\n",
      "Epoch 70/100\n",
      "25017/25017 [==============================] - 139s 6ms/step - loss: 0.2369 - acc: 0.9124 - val_loss: 0.5604 - val_acc: 0.8360\n",
      "Epoch 71/100\n",
      "25017/25017 [==============================] - 139s 6ms/step - loss: 0.2379 - acc: 0.9119 - val_loss: 0.5608 - val_acc: 0.8321\n",
      "Epoch 72/100\n",
      "25017/25017 [==============================] - 139s 6ms/step - loss: 0.2326 - acc: 0.9128 - val_loss: 0.5610 - val_acc: 0.8359\n",
      "Epoch 73/100\n",
      "25017/25017 [==============================] - 139s 6ms/step - loss: 0.2307 - acc: 0.9139 - val_loss: 0.5586 - val_acc: 0.8349\n",
      "Epoch 74/100\n",
      "25017/25017 [==============================] - 139s 6ms/step - loss: 0.2251 - acc: 0.9162 - val_loss: 0.5723 - val_acc: 0.8321\n",
      "Epoch 75/100\n",
      "25017/25017 [==============================] - 139s 6ms/step - loss: 0.2221 - acc: 0.9165 - val_loss: 0.5719 - val_acc: 0.8313\n",
      "Epoch 76/100\n",
      "25017/25017 [==============================] - 139s 6ms/step - loss: 0.2227 - acc: 0.9174 - val_loss: 0.5747 - val_acc: 0.8338\n",
      "Epoch 77/100\n",
      "25017/25017 [==============================] - 139s 6ms/step - loss: 0.2262 - acc: 0.9149 - val_loss: 0.5719 - val_acc: 0.8352\n",
      "Epoch 78/100\n",
      "25017/25017 [==============================] - 139s 6ms/step - loss: 0.2167 - acc: 0.9202 - val_loss: 0.5682 - val_acc: 0.8341\n",
      "Epoch 79/100\n",
      "25017/25017 [==============================] - 139s 6ms/step - loss: 0.2167 - acc: 0.9187 - val_loss: 0.5654 - val_acc: 0.8365\n",
      "Epoch 80/100\n",
      "25017/25017 [==============================] - 139s 6ms/step - loss: 0.2061 - acc: 0.9234 - val_loss: 0.5644 - val_acc: 0.8360\n",
      "Epoch 81/100\n",
      "25017/25017 [==============================] - 139s 6ms/step - loss: 0.2136 - acc: 0.9207 - val_loss: 0.5633 - val_acc: 0.8372\n",
      "Epoch 82/100\n",
      "25017/25017 [==============================] - 139s 6ms/step - loss: 0.2077 - acc: 0.9217 - val_loss: 0.5632 - val_acc: 0.8372\n",
      "Epoch 83/100\n",
      "25017/25017 [==============================] - 139s 6ms/step - loss: 0.2095 - acc: 0.9202 - val_loss: 0.5621 - val_acc: 0.8367\n",
      "Epoch 84/100\n",
      "25017/25017 [==============================] - 139s 6ms/step - loss: 0.2121 - acc: 0.9194 - val_loss: 0.5631 - val_acc: 0.8364\n",
      "Epoch 85/100\n",
      "25017/25017 [==============================] - 139s 6ms/step - loss: 0.2076 - acc: 0.9238 - val_loss: 0.5630 - val_acc: 0.8362\n",
      "Epoch 86/100\n",
      "25017/25017 [==============================] - 139s 6ms/step - loss: 0.2080 - acc: 0.9239 - val_loss: 0.5633 - val_acc: 0.8375\n",
      "Epoch 87/100\n",
      "25017/25017 [==============================] - 139s 6ms/step - loss: 0.2094 - acc: 0.9225 - val_loss: 0.5605 - val_acc: 0.8362\n",
      "Epoch 88/100\n",
      "25017/25017 [==============================] - 139s 6ms/step - loss: 0.2040 - acc: 0.9236 - val_loss: 0.5606 - val_acc: 0.8375\n",
      "Epoch 89/100\n",
      "25017/25017 [==============================] - 139s 6ms/step - loss: 0.2120 - acc: 0.9223 - val_loss: 0.5616 - val_acc: 0.8365\n",
      "Epoch 90/100\n",
      "25017/25017 [==============================] - 139s 6ms/step - loss: 0.2069 - acc: 0.9231 - val_loss: 0.5613 - val_acc: 0.8372\n",
      "Epoch 91/100\n",
      "25017/25017 [==============================] - 139s 6ms/step - loss: 0.2045 - acc: 0.9241 - val_loss: 0.5614 - val_acc: 0.8386\n",
      "Epoch 92/100\n",
      "25017/25017 [==============================] - 139s 6ms/step - loss: 0.2072 - acc: 0.9222 - val_loss: 0.5619 - val_acc: 0.8362\n",
      "Epoch 93/100\n",
      "25017/25017 [==============================] - 139s 6ms/step - loss: 0.2100 - acc: 0.9213 - val_loss: 0.5609 - val_acc: 0.8378\n",
      "Epoch 94/100\n",
      "25017/25017 [==============================] - 139s 6ms/step - loss: 0.2042 - acc: 0.9235 - val_loss: 0.5598 - val_acc: 0.8380\n",
      "Epoch 95/100\n",
      "25017/25017 [==============================] - 139s 6ms/step - loss: 0.2070 - acc: 0.9226 - val_loss: 0.5612 - val_acc: 0.8381\n",
      "Epoch 96/100\n",
      "25017/25017 [==============================] - 139s 6ms/step - loss: 0.2040 - acc: 0.9234 - val_loss: 0.5629 - val_acc: 0.8392\n",
      "Epoch 97/100\n",
      "25017/25017 [==============================] - 139s 6ms/step - loss: 0.2043 - acc: 0.9212 - val_loss: 0.5620 - val_acc: 0.8376\n",
      "Epoch 98/100\n",
      "25017/25017 [==============================] - 139s 6ms/step - loss: 0.2019 - acc: 0.9254 - val_loss: 0.5621 - val_acc: 0.8396\n",
      "Epoch 99/100\n",
      "25017/25017 [==============================] - 139s 6ms/step - loss: 0.2051 - acc: 0.9227 - val_loss: 0.5613 - val_acc: 0.8396\n",
      "Epoch 100/100\n",
      "25017/25017 [==============================] - 139s 6ms/step - loss: 0.2042 - acc: 0.9239 - val_loss: 0.5618 - val_acc: 0.8373\n"
     ]
    },
    {
     "ename": "ValueError",
     "evalue": "operands could not be broadcast together with shapes (22500,19) (13095,19) (22500,19) ",
     "output_type": "error",
     "traceback": [
      "\u001b[0;31m---------------------------------------------------------------------------\u001b[0m",
      "\u001b[0;31mValueError\u001b[0m                                Traceback (most recent call last)",
      "\u001b[0;32m<ipython-input-174-3b4b349e9bde>\u001b[0m in \u001b[0;36m<module>\u001b[0;34m()\u001b[0m\n\u001b[1;32m     48\u001b[0m     \u001b[0mmodel\u001b[0m\u001b[0;34m.\u001b[0m\u001b[0mload_weights\u001b[0m\u001b[0;34m(\u001b[0m\u001b[0;34mf'new_fold{fold}.h5'\u001b[0m\u001b[0;34m)\u001b[0m\u001b[0;34m\u001b[0m\u001b[0;34m\u001b[0m\u001b[0m\n\u001b[1;32m     49\u001b[0m     \u001b[0;31m# 预测输出为softmax值，对五次训练结果取平均\u001b[0m\u001b[0;34m\u001b[0m\u001b[0;34m\u001b[0m\u001b[0;34m\u001b[0m\u001b[0m\n\u001b[0;32m---> 50\u001b[0;31m     \u001b[0mproba_t\u001b[0m \u001b[0;34m+=\u001b[0m \u001b[0mmodel\u001b[0m\u001b[0;34m.\u001b[0m\u001b[0mpredict\u001b[0m\u001b[0;34m(\u001b[0m\u001b[0mt_\u001b[0m\u001b[0;34m,\u001b[0m \u001b[0mverbose\u001b[0m\u001b[0;34m=\u001b[0m\u001b[0;36m0\u001b[0m\u001b[0;34m,\u001b[0m \u001b[0mbatch_size\u001b[0m\u001b[0;34m=\u001b[0m\u001b[0;36m1024\u001b[0m\u001b[0;34m)\u001b[0m \u001b[0;34m/\u001b[0m \u001b[0;36m5.\u001b[0m\u001b[0;34m\u001b[0m\u001b[0;34m\u001b[0m\u001b[0m\n\u001b[0m",
      "\u001b[0;31mValueError\u001b[0m: operands could not be broadcast together with shapes (22500,19) (13095,19) (22500,19) "
     ]
    }
   ],
   "source": [
    "# 设置测试集的准确度 acc是指模型训练精度，val_acc是指模型在验证集上的精度\n",
    "proba_t = np.zeros((22500, 19))\n",
    "# 从所有train集中均分出来一个作为验证集\n",
    "for fold, (xx, yy) in enumerate(kfold.split(x_, y_l)):\n",
    "    print('第',fold, '次')\n",
    "    # 将二元组转为矩阵表示\n",
    "    y_ = to_categorical(y_l, num_classes=19)\n",
    "    model = Net()\n",
    "    # 设置训练参数：loss使用'分类交叉熵函数'，优化器使用Adam， 列表（metrics）使用accuracy：表示为到上一个batch为止的准确度\n",
    "    model.compile(loss='categorical_crossentropy',\n",
    "                  optimizer=Adam(),\n",
    "                  metrics=['acc'])\n",
    "    # 回调监控函数（修改学习率）：\n",
    "    # monitor：要监测的数量。\n",
    "    # factor：学习速率降低的因素。new_lr = lr * factor\n",
    "    # patience：没有提升的epoch数，之后学习率将降低。\n",
    "    # verbose：日志显示：0：安静，1：更新消息。为1表示输出epoch模型保存信息，默认为0表示不输出该信息\n",
    "    # mode：{auto，min，max}之一。在min模式下，当监测量停止下降时，lr将减少；在max模式下，当监测数量停止增加时，它将减少；在auto模式下，从监测数量的名称自动推断方向。\n",
    "    plateau = ReduceLROnPlateau(monitor=\"val_acc\",\n",
    "                                verbose=0,\n",
    "                                mode='max',\n",
    "                                factor=0.1,\n",
    "                                patience=10)\n",
    "    # 回调停止函数（及时停止防止过拟合）：\n",
    "    # 参数属性和上述一致\n",
    "    early_stopping = EarlyStopping(monitor='val_acc',\n",
    "                                   verbose=0,\n",
    "                                   mode='max',\n",
    "                                   patience=15)\n",
    "    # 保存模型设置\n",
    "    # save_best_only：当设置为True时，将只保存在验证集上性能最好的模型\n",
    "    checkpoint = ModelCheckpoint(f'new_fold{fold}.h5',\n",
    "                                 monitor='val_acc',\n",
    "                                 verbose=0,\n",
    "                                 mode='max',\n",
    "                                 save_best_only=True)\n",
    "    # 开始训练\n",
    "    # validation_data：形式为（X，y）的tuple，是指定的验证集。此参数将覆盖validation_spilt。\n",
    "    # shuffle：表示是否在训练过程中随机打乱输入样本的顺序。\n",
    "    model.fit(x_[xx], y_[xx],\n",
    "              epochs=100,\n",
    "              batch_size=32,\n",
    "              verbose=1,\n",
    "              shuffle=True,\n",
    "              validation_data=(x_[yy], y_[yy]),\n",
    "              callbacks=[plateau, early_stopping, checkpoint])\n",
    "    # 保存5个交叉验证集模型的参数\n",
    "    model.load_weights(f'new_fold{fold}.h5')\n",
    "    # 预测输出为softmax值，对五次训练结果取平均\n",
    "    proba_t += model.predict(t_, verbose=0, batch_size=1024) / 5."
   ]
  },
  {
   "cell_type": "code",
   "execution_count": 175,
   "metadata": {},
   "outputs": [],
   "source": [
    "model = load_model('new_fold0.h5')"
   ]
  },
  {
   "cell_type": "code",
   "execution_count": 184,
   "metadata": {},
   "outputs": [],
   "source": [
    "pre_new = model.predict(t_,1024)"
   ]
  },
  {
   "cell_type": "code",
   "execution_count": 185,
   "metadata": {},
   "outputs": [],
   "source": [
    "for i in range(len(retest_index)):\n",
    "    pre_new[i] += pre_new[i + len(retest_index)]\n",
    "    pre_new[i] += pre_new[i + len(retest_index) * 2]"
   ]
  },
  {
   "cell_type": "code",
   "execution_count": 186,
   "metadata": {},
   "outputs": [],
   "source": [
    "pre_new_sub = pre_new[:len(retest_index)]"
   ]
  },
  {
   "cell_type": "code",
   "execution_count": 187,
   "metadata": {},
   "outputs": [
    {
     "data": {
      "text/plain": [
       "(4365, 19)"
      ]
     },
     "execution_count": 187,
     "metadata": {},
     "output_type": "execute_result"
    }
   ],
   "source": [
    "pre_new_sub"
   ]
  },
  {
   "cell_type": "code",
   "execution_count": 188,
   "metadata": {},
   "outputs": [],
   "source": [
    "sub_new = np.argmax(pre_new_sub, axis=1)"
   ]
  },
  {
   "cell_type": "code",
   "execution_count": 189,
   "metadata": {},
   "outputs": [
    {
     "data": {
      "text/plain": [
       "(4365,)"
      ]
     },
     "execution_count": 189,
     "metadata": {},
     "output_type": "execute_result"
    }
   ],
   "source": [
    "sub_new"
   ]
  },
  {
   "cell_type": "code",
   "execution_count": 225,
   "metadata": {},
   "outputs": [
    {
     "data": {
      "text/plain": [
       "[0, 2, 3, 7, 8, 9, 11, 12, 13, 14]"
      ]
     },
     "execution_count": 225,
     "metadata": {},
     "output_type": "execute_result"
    }
   ],
   "source": [
    "retest_index[:10]"
   ]
  },
  {
   "cell_type": "code",
   "execution_count": 223,
   "metadata": {},
   "outputs": [
    {
     "data": {
      "text/plain": [
       "array([13,  1,  6,  3,  2,  8,  1,  2,  6,  5])"
      ]
     },
     "execution_count": 223,
     "metadata": {},
     "output_type": "execute_result"
    }
   ],
   "source": [
    "sub_new[:10]"
   ]
  },
  {
   "cell_type": "code",
   "execution_count": 226,
   "metadata": {},
   "outputs": [
    {
     "data": {
      "text/plain": [
       "[1, 4, 5, 6, 10, 15, 18, 20, 29, 32]"
      ]
     },
     "execution_count": 226,
     "metadata": {},
     "output_type": "execute_result"
    }
   ],
   "source": [
    "retrain_index[:10]"
   ]
  },
  {
   "cell_type": "code",
   "execution_count": 224,
   "metadata": {},
   "outputs": [
    {
     "data": {
      "text/plain": [
       "[3, 18, 12, 13, 8, 2, 16, 15, 8, 12]"
      ]
     },
     "execution_count": 224,
     "metadata": {},
     "output_type": "execute_result"
    }
   ],
   "source": [
    "retrain_label[:10]"
   ]
  },
  {
   "cell_type": "code",
   "execution_count": 220,
   "metadata": {},
   "outputs": [],
   "source": [
    "sub = pd.read_csv('sub.csv')"
   ]
  },
  {
   "cell_type": "code",
   "execution_count": 221,
   "metadata": {},
   "outputs": [],
   "source": [
    "for i,j in zip(range(len(retest_index)),range(len(retrain_index))):\n",
    "    sub.iloc[retest_index[i],1] = sub_new[i]\n",
    "    sub.iloc[retrain_index[j],1] = retrain_label[j]\n",
    "\n",
    "        "
   ]
  },
  {
   "cell_type": "code",
   "execution_count": 222,
   "metadata": {},
   "outputs": [
    {
     "data": {
      "text/html": [
       "<div>\n",
       "<style scoped>\n",
       "    .dataframe tbody tr th:only-of-type {\n",
       "        vertical-align: middle;\n",
       "    }\n",
       "\n",
       "    .dataframe tbody tr th {\n",
       "        vertical-align: top;\n",
       "    }\n",
       "\n",
       "    .dataframe thead th {\n",
       "        text-align: right;\n",
       "    }\n",
       "</style>\n",
       "<table border=\"1\" class=\"dataframe\">\n",
       "  <thead>\n",
       "    <tr style=\"text-align: right;\">\n",
       "      <th></th>\n",
       "      <th>fragment_id</th>\n",
       "      <th>behavior_id</th>\n",
       "    </tr>\n",
       "  </thead>\n",
       "  <tbody>\n",
       "    <tr>\n",
       "      <th>0</th>\n",
       "      <td>0</td>\n",
       "      <td>13</td>\n",
       "    </tr>\n",
       "    <tr>\n",
       "      <th>1</th>\n",
       "      <td>1</td>\n",
       "      <td>3</td>\n",
       "    </tr>\n",
       "    <tr>\n",
       "      <th>2</th>\n",
       "      <td>2</td>\n",
       "      <td>1</td>\n",
       "    </tr>\n",
       "    <tr>\n",
       "      <th>3</th>\n",
       "      <td>3</td>\n",
       "      <td>6</td>\n",
       "    </tr>\n",
       "    <tr>\n",
       "      <th>4</th>\n",
       "      <td>4</td>\n",
       "      <td>18</td>\n",
       "    </tr>\n",
       "  </tbody>\n",
       "</table>\n",
       "</div>"
      ],
      "text/plain": [
       "   fragment_id  behavior_id\n",
       "0            0           13\n",
       "1            1            3\n",
       "2            2            1\n",
       "3            3            6\n",
       "4            4           18"
      ]
     },
     "execution_count": 222,
     "metadata": {},
     "output_type": "execute_result"
    }
   ],
   "source": [
    "sub.head()"
   ]
  },
  {
   "cell_type": "code",
   "execution_count": 227,
   "metadata": {
    "scrolled": true
   },
   "outputs": [],
   "source": [
    "sub.to_csv('submit_new.csv',index=False)"
   ]
  },
  {
   "cell_type": "code",
   "execution_count": 232,
   "metadata": {},
   "outputs": [
    {
     "data": {
      "text/html": [
       "<div>\n",
       "<style scoped>\n",
       "    .dataframe tbody tr th:only-of-type {\n",
       "        vertical-align: middle;\n",
       "    }\n",
       "\n",
       "    .dataframe tbody tr th {\n",
       "        vertical-align: top;\n",
       "    }\n",
       "\n",
       "    .dataframe thead th {\n",
       "        text-align: right;\n",
       "    }\n",
       "</style>\n",
       "<table border=\"1\" class=\"dataframe\">\n",
       "  <thead>\n",
       "    <tr style=\"text-align: right;\">\n",
       "      <th></th>\n",
       "      <th>fragment_id</th>\n",
       "      <th>behavior_id</th>\n",
       "    </tr>\n",
       "  </thead>\n",
       "  <tbody>\n",
       "    <tr>\n",
       "      <th>0</th>\n",
       "      <td>0</td>\n",
       "      <td>13</td>\n",
       "    </tr>\n",
       "    <tr>\n",
       "      <th>1</th>\n",
       "      <td>1</td>\n",
       "      <td>3</td>\n",
       "    </tr>\n",
       "    <tr>\n",
       "      <th>2</th>\n",
       "      <td>2</td>\n",
       "      <td>1</td>\n",
       "    </tr>\n",
       "    <tr>\n",
       "      <th>3</th>\n",
       "      <td>3</td>\n",
       "      <td>6</td>\n",
       "    </tr>\n",
       "    <tr>\n",
       "      <th>4</th>\n",
       "      <td>4</td>\n",
       "      <td>18</td>\n",
       "    </tr>\n",
       "    <tr>\n",
       "      <th>5</th>\n",
       "      <td>5</td>\n",
       "      <td>12</td>\n",
       "    </tr>\n",
       "    <tr>\n",
       "      <th>6</th>\n",
       "      <td>6</td>\n",
       "      <td>13</td>\n",
       "    </tr>\n",
       "    <tr>\n",
       "      <th>7</th>\n",
       "      <td>7</td>\n",
       "      <td>3</td>\n",
       "    </tr>\n",
       "    <tr>\n",
       "      <th>8</th>\n",
       "      <td>8</td>\n",
       "      <td>2</td>\n",
       "    </tr>\n",
       "    <tr>\n",
       "      <th>9</th>\n",
       "      <td>9</td>\n",
       "      <td>8</td>\n",
       "    </tr>\n",
       "    <tr>\n",
       "      <th>10</th>\n",
       "      <td>10</td>\n",
       "      <td>8</td>\n",
       "    </tr>\n",
       "    <tr>\n",
       "      <th>11</th>\n",
       "      <td>11</td>\n",
       "      <td>1</td>\n",
       "    </tr>\n",
       "    <tr>\n",
       "      <th>12</th>\n",
       "      <td>12</td>\n",
       "      <td>2</td>\n",
       "    </tr>\n",
       "    <tr>\n",
       "      <th>13</th>\n",
       "      <td>13</td>\n",
       "      <td>6</td>\n",
       "    </tr>\n",
       "    <tr>\n",
       "      <th>14</th>\n",
       "      <td>14</td>\n",
       "      <td>5</td>\n",
       "    </tr>\n",
       "  </tbody>\n",
       "</table>\n",
       "</div>"
      ],
      "text/plain": [
       "    fragment_id  behavior_id\n",
       "0             0           13\n",
       "1             1            3\n",
       "2             2            1\n",
       "3             3            6\n",
       "4             4           18\n",
       "5             5           12\n",
       "6             6           13\n",
       "7             7            3\n",
       "8             8            2\n",
       "9             9            8\n",
       "10           10            8\n",
       "11           11            1\n",
       "12           12            2\n",
       "13           13            6\n",
       "14           14            5"
      ]
     },
     "execution_count": 232,
     "metadata": {},
     "output_type": "execute_result"
    }
   ],
   "source": [
    "sub.head(15)"
   ]
  },
  {
   "cell_type": "code",
   "execution_count": 229,
   "metadata": {},
   "outputs": [],
   "source": [
    "t = pd.read_csv('submit.csv')"
   ]
  },
  {
   "cell_type": "code",
   "execution_count": 231,
   "metadata": {},
   "outputs": [
    {
     "data": {
      "text/html": [
       "<div>\n",
       "<style scoped>\n",
       "    .dataframe tbody tr th:only-of-type {\n",
       "        vertical-align: middle;\n",
       "    }\n",
       "\n",
       "    .dataframe tbody tr th {\n",
       "        vertical-align: top;\n",
       "    }\n",
       "\n",
       "    .dataframe thead th {\n",
       "        text-align: right;\n",
       "    }\n",
       "</style>\n",
       "<table border=\"1\" class=\"dataframe\">\n",
       "  <thead>\n",
       "    <tr style=\"text-align: right;\">\n",
       "      <th></th>\n",
       "      <th>fragment_id</th>\n",
       "      <th>behavior_id</th>\n",
       "    </tr>\n",
       "  </thead>\n",
       "  <tbody>\n",
       "    <tr>\n",
       "      <th>0</th>\n",
       "      <td>0</td>\n",
       "      <td>12</td>\n",
       "    </tr>\n",
       "    <tr>\n",
       "      <th>1</th>\n",
       "      <td>1</td>\n",
       "      <td>3</td>\n",
       "    </tr>\n",
       "    <tr>\n",
       "      <th>2</th>\n",
       "      <td>2</td>\n",
       "      <td>6</td>\n",
       "    </tr>\n",
       "    <tr>\n",
       "      <th>3</th>\n",
       "      <td>3</td>\n",
       "      <td>6</td>\n",
       "    </tr>\n",
       "    <tr>\n",
       "      <th>4</th>\n",
       "      <td>4</td>\n",
       "      <td>18</td>\n",
       "    </tr>\n",
       "    <tr>\n",
       "      <th>5</th>\n",
       "      <td>5</td>\n",
       "      <td>12</td>\n",
       "    </tr>\n",
       "    <tr>\n",
       "      <th>6</th>\n",
       "      <td>6</td>\n",
       "      <td>13</td>\n",
       "    </tr>\n",
       "    <tr>\n",
       "      <th>7</th>\n",
       "      <td>7</td>\n",
       "      <td>3</td>\n",
       "    </tr>\n",
       "    <tr>\n",
       "      <th>8</th>\n",
       "      <td>8</td>\n",
       "      <td>2</td>\n",
       "    </tr>\n",
       "    <tr>\n",
       "      <th>9</th>\n",
       "      <td>9</td>\n",
       "      <td>8</td>\n",
       "    </tr>\n",
       "    <tr>\n",
       "      <th>10</th>\n",
       "      <td>10</td>\n",
       "      <td>8</td>\n",
       "    </tr>\n",
       "    <tr>\n",
       "      <th>11</th>\n",
       "      <td>11</td>\n",
       "      <td>1</td>\n",
       "    </tr>\n",
       "    <tr>\n",
       "      <th>12</th>\n",
       "      <td>12</td>\n",
       "      <td>2</td>\n",
       "    </tr>\n",
       "    <tr>\n",
       "      <th>13</th>\n",
       "      <td>13</td>\n",
       "      <td>0</td>\n",
       "    </tr>\n",
       "    <tr>\n",
       "      <th>14</th>\n",
       "      <td>14</td>\n",
       "      <td>5</td>\n",
       "    </tr>\n",
       "  </tbody>\n",
       "</table>\n",
       "</div>"
      ],
      "text/plain": [
       "    fragment_id  behavior_id\n",
       "0             0           12\n",
       "1             1            3\n",
       "2             2            6\n",
       "3             3            6\n",
       "4             4           18\n",
       "5             5           12\n",
       "6             6           13\n",
       "7             7            3\n",
       "8             8            2\n",
       "9             9            8\n",
       "10           10            8\n",
       "11           11            1\n",
       "12           12            2\n",
       "13           13            0\n",
       "14           14            5"
      ]
     },
     "execution_count": 231,
     "metadata": {},
     "output_type": "execute_result"
    }
   ],
   "source": [
    "t.head(15)"
   ]
  },
  {
   "cell_type": "code",
   "execution_count": null,
   "metadata": {},
   "outputs": [],
   "source": []
  }
 ],
 "metadata": {
  "kernelspec": {
   "display_name": "Python 3",
   "language": "python",
   "name": "python3"
  },
  "language_info": {
   "codemirror_mode": {
    "name": "ipython",
    "version": 3
   },
   "file_extension": ".py",
   "mimetype": "text/x-python",
   "name": "python",
   "nbconvert_exporter": "python",
   "pygments_lexer": "ipython3",
   "version": "3.6.8"
  }
 },
 "nbformat": 4,
 "nbformat_minor": 2
}
